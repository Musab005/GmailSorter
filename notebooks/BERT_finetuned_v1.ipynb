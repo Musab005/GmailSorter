{
  "nbformat": 4,
  "nbformat_minor": 0,
  "metadata": {
    "colab": {
      "provenance": [],
      "gpuType": "T4"
    },
    "kernelspec": {
      "name": "python3",
      "display_name": "Python 3"
    },
    "language_info": {
      "name": "python"
    },
    "accelerator": "GPU"
  },
  "cells": [
    {
      "cell_type": "markdown",
      "source": [
        "# Dependencies"
      ],
      "metadata": {
        "id": "8CCCJlDPCWhn"
      }
    },
    {
      "cell_type": "code",
      "source": [
        "# Install dependencies\n",
        "\n",
        "!pip install -q transformers datasets torch scikit-learn wandb google-cloud-storage fsspec\n",
        "!pip install -U datasets pyarrow fsspec"
      ],
      "metadata": {
        "id": "Ek7YpRunCSD-"
      },
      "execution_count": null,
      "outputs": []
    },
    {
      "cell_type": "markdown",
      "source": [
        "# Fine-tune BERT"
      ],
      "metadata": {
        "id": "-MZIVbREBna4"
      }
    },
    {
      "cell_type": "code",
      "execution_count": 3,
      "metadata": {
        "colab": {
          "base_uri": "https://localhost:8080/",
          "height": 1000
        },
        "id": "xseYIuzIrkxL",
        "outputId": "ca30aadb-73e3-4eae-bf26-e1a0aa9ce1b8"
      },
      "outputs": [
        {
          "output_type": "stream",
          "name": "stdout",
          "text": [
            "Requirement already satisfied: datasets in /usr/local/lib/python3.11/dist-packages (4.0.0)\n",
            "Requirement already satisfied: pyarrow in /usr/local/lib/python3.11/dist-packages (20.0.0)\n",
            "Requirement already satisfied: fsspec in /usr/local/lib/python3.11/dist-packages (2025.3.0)\n",
            "Collecting fsspec\n",
            "  Using cached fsspec-2025.5.1-py3-none-any.whl.metadata (11 kB)\n",
            "Requirement already satisfied: filelock in /usr/local/lib/python3.11/dist-packages (from datasets) (3.18.0)\n",
            "Requirement already satisfied: numpy>=1.17 in /usr/local/lib/python3.11/dist-packages (from datasets) (2.0.2)\n",
            "Requirement already satisfied: dill<0.3.9,>=0.3.0 in /usr/local/lib/python3.11/dist-packages (from datasets) (0.3.7)\n",
            "Requirement already satisfied: pandas in /usr/local/lib/python3.11/dist-packages (from datasets) (2.2.2)\n",
            "Requirement already satisfied: requests>=2.32.2 in /usr/local/lib/python3.11/dist-packages (from datasets) (2.32.3)\n",
            "Requirement already satisfied: tqdm>=4.66.3 in /usr/local/lib/python3.11/dist-packages (from datasets) (4.67.1)\n",
            "Requirement already satisfied: xxhash in /usr/local/lib/python3.11/dist-packages (from datasets) (3.5.0)\n",
            "Requirement already satisfied: multiprocess<0.70.17 in /usr/local/lib/python3.11/dist-packages (from datasets) (0.70.15)\n",
            "Requirement already satisfied: huggingface-hub>=0.24.0 in /usr/local/lib/python3.11/dist-packages (from datasets) (0.33.2)\n",
            "Requirement already satisfied: packaging in /usr/local/lib/python3.11/dist-packages (from datasets) (24.2)\n",
            "Requirement already satisfied: pyyaml>=5.1 in /usr/local/lib/python3.11/dist-packages (from datasets) (6.0.2)\n",
            "Requirement already satisfied: aiohttp!=4.0.0a0,!=4.0.0a1 in /usr/local/lib/python3.11/dist-packages (from fsspec[http]<=2025.3.0,>=2023.1.0->datasets) (3.11.15)\n",
            "Requirement already satisfied: typing-extensions>=3.7.4.3 in /usr/local/lib/python3.11/dist-packages (from huggingface-hub>=0.24.0->datasets) (4.14.1)\n",
            "Requirement already satisfied: hf-xet<2.0.0,>=1.1.2 in /usr/local/lib/python3.11/dist-packages (from huggingface-hub>=0.24.0->datasets) (1.1.5)\n",
            "Requirement already satisfied: charset-normalizer<4,>=2 in /usr/local/lib/python3.11/dist-packages (from requests>=2.32.2->datasets) (3.4.2)\n",
            "Requirement already satisfied: idna<4,>=2.5 in /usr/local/lib/python3.11/dist-packages (from requests>=2.32.2->datasets) (3.10)\n",
            "Requirement already satisfied: urllib3<3,>=1.21.1 in /usr/local/lib/python3.11/dist-packages (from requests>=2.32.2->datasets) (2.4.0)\n",
            "Requirement already satisfied: certifi>=2017.4.17 in /usr/local/lib/python3.11/dist-packages (from requests>=2.32.2->datasets) (2025.7.9)\n",
            "Requirement already satisfied: python-dateutil>=2.8.2 in /usr/local/lib/python3.11/dist-packages (from pandas->datasets) (2.9.0.post0)\n",
            "Requirement already satisfied: pytz>=2020.1 in /usr/local/lib/python3.11/dist-packages (from pandas->datasets) (2025.2)\n",
            "Requirement already satisfied: tzdata>=2022.7 in /usr/local/lib/python3.11/dist-packages (from pandas->datasets) (2025.2)\n",
            "Requirement already satisfied: aiohappyeyeballs>=2.3.0 in /usr/local/lib/python3.11/dist-packages (from aiohttp!=4.0.0a0,!=4.0.0a1->fsspec[http]<=2025.3.0,>=2023.1.0->datasets) (2.6.1)\n",
            "Requirement already satisfied: aiosignal>=1.1.2 in /usr/local/lib/python3.11/dist-packages (from aiohttp!=4.0.0a0,!=4.0.0a1->fsspec[http]<=2025.3.0,>=2023.1.0->datasets) (1.4.0)\n",
            "Requirement already satisfied: attrs>=17.3.0 in /usr/local/lib/python3.11/dist-packages (from aiohttp!=4.0.0a0,!=4.0.0a1->fsspec[http]<=2025.3.0,>=2023.1.0->datasets) (25.3.0)\n",
            "Requirement already satisfied: frozenlist>=1.1.1 in /usr/local/lib/python3.11/dist-packages (from aiohttp!=4.0.0a0,!=4.0.0a1->fsspec[http]<=2025.3.0,>=2023.1.0->datasets) (1.7.0)\n",
            "Requirement already satisfied: multidict<7.0,>=4.5 in /usr/local/lib/python3.11/dist-packages (from aiohttp!=4.0.0a0,!=4.0.0a1->fsspec[http]<=2025.3.0,>=2023.1.0->datasets) (6.6.3)\n",
            "Requirement already satisfied: propcache>=0.2.0 in /usr/local/lib/python3.11/dist-packages (from aiohttp!=4.0.0a0,!=4.0.0a1->fsspec[http]<=2025.3.0,>=2023.1.0->datasets) (0.3.2)\n",
            "Requirement already satisfied: yarl<2.0,>=1.17.0 in /usr/local/lib/python3.11/dist-packages (from aiohttp!=4.0.0a0,!=4.0.0a1->fsspec[http]<=2025.3.0,>=2023.1.0->datasets) (1.20.1)\n",
            "Requirement already satisfied: six>=1.5 in /usr/local/lib/python3.11/dist-packages (from python-dateutil>=2.8.2->pandas->datasets) (1.17.0)\n",
            "Upload your service account key JSON file...\n"
          ]
        },
        {
          "output_type": "display_data",
          "data": {
            "text/plain": [
              "<IPython.core.display.HTML object>"
            ],
            "text/html": [
              "\n",
              "     <input type=\"file\" id=\"files-d8ab9811-dd46-468d-ae4e-0f489b8fa57f\" name=\"files[]\" multiple disabled\n",
              "        style=\"border:none\" />\n",
              "     <output id=\"result-d8ab9811-dd46-468d-ae4e-0f489b8fa57f\">\n",
              "      Upload widget is only available when the cell has been executed in the\n",
              "      current browser session. Please rerun this cell to enable.\n",
              "      </output>\n",
              "      <script>// Copyright 2017 Google LLC\n",
              "//\n",
              "// Licensed under the Apache License, Version 2.0 (the \"License\");\n",
              "// you may not use this file except in compliance with the License.\n",
              "// You may obtain a copy of the License at\n",
              "//\n",
              "//      http://www.apache.org/licenses/LICENSE-2.0\n",
              "//\n",
              "// Unless required by applicable law or agreed to in writing, software\n",
              "// distributed under the License is distributed on an \"AS IS\" BASIS,\n",
              "// WITHOUT WARRANTIES OR CONDITIONS OF ANY KIND, either express or implied.\n",
              "// See the License for the specific language governing permissions and\n",
              "// limitations under the License.\n",
              "\n",
              "/**\n",
              " * @fileoverview Helpers for google.colab Python module.\n",
              " */\n",
              "(function(scope) {\n",
              "function span(text, styleAttributes = {}) {\n",
              "  const element = document.createElement('span');\n",
              "  element.textContent = text;\n",
              "  for (const key of Object.keys(styleAttributes)) {\n",
              "    element.style[key] = styleAttributes[key];\n",
              "  }\n",
              "  return element;\n",
              "}\n",
              "\n",
              "// Max number of bytes which will be uploaded at a time.\n",
              "const MAX_PAYLOAD_SIZE = 100 * 1024;\n",
              "\n",
              "function _uploadFiles(inputId, outputId) {\n",
              "  const steps = uploadFilesStep(inputId, outputId);\n",
              "  const outputElement = document.getElementById(outputId);\n",
              "  // Cache steps on the outputElement to make it available for the next call\n",
              "  // to uploadFilesContinue from Python.\n",
              "  outputElement.steps = steps;\n",
              "\n",
              "  return _uploadFilesContinue(outputId);\n",
              "}\n",
              "\n",
              "// This is roughly an async generator (not supported in the browser yet),\n",
              "// where there are multiple asynchronous steps and the Python side is going\n",
              "// to poll for completion of each step.\n",
              "// This uses a Promise to block the python side on completion of each step,\n",
              "// then passes the result of the previous step as the input to the next step.\n",
              "function _uploadFilesContinue(outputId) {\n",
              "  const outputElement = document.getElementById(outputId);\n",
              "  const steps = outputElement.steps;\n",
              "\n",
              "  const next = steps.next(outputElement.lastPromiseValue);\n",
              "  return Promise.resolve(next.value.promise).then((value) => {\n",
              "    // Cache the last promise value to make it available to the next\n",
              "    // step of the generator.\n",
              "    outputElement.lastPromiseValue = value;\n",
              "    return next.value.response;\n",
              "  });\n",
              "}\n",
              "\n",
              "/**\n",
              " * Generator function which is called between each async step of the upload\n",
              " * process.\n",
              " * @param {string} inputId Element ID of the input file picker element.\n",
              " * @param {string} outputId Element ID of the output display.\n",
              " * @return {!Iterable<!Object>} Iterable of next steps.\n",
              " */\n",
              "function* uploadFilesStep(inputId, outputId) {\n",
              "  const inputElement = document.getElementById(inputId);\n",
              "  inputElement.disabled = false;\n",
              "\n",
              "  const outputElement = document.getElementById(outputId);\n",
              "  outputElement.innerHTML = '';\n",
              "\n",
              "  const pickedPromise = new Promise((resolve) => {\n",
              "    inputElement.addEventListener('change', (e) => {\n",
              "      resolve(e.target.files);\n",
              "    });\n",
              "  });\n",
              "\n",
              "  const cancel = document.createElement('button');\n",
              "  inputElement.parentElement.appendChild(cancel);\n",
              "  cancel.textContent = 'Cancel upload';\n",
              "  const cancelPromise = new Promise((resolve) => {\n",
              "    cancel.onclick = () => {\n",
              "      resolve(null);\n",
              "    };\n",
              "  });\n",
              "\n",
              "  // Wait for the user to pick the files.\n",
              "  const files = yield {\n",
              "    promise: Promise.race([pickedPromise, cancelPromise]),\n",
              "    response: {\n",
              "      action: 'starting',\n",
              "    }\n",
              "  };\n",
              "\n",
              "  cancel.remove();\n",
              "\n",
              "  // Disable the input element since further picks are not allowed.\n",
              "  inputElement.disabled = true;\n",
              "\n",
              "  if (!files) {\n",
              "    return {\n",
              "      response: {\n",
              "        action: 'complete',\n",
              "      }\n",
              "    };\n",
              "  }\n",
              "\n",
              "  for (const file of files) {\n",
              "    const li = document.createElement('li');\n",
              "    li.append(span(file.name, {fontWeight: 'bold'}));\n",
              "    li.append(span(\n",
              "        `(${file.type || 'n/a'}) - ${file.size} bytes, ` +\n",
              "        `last modified: ${\n",
              "            file.lastModifiedDate ? file.lastModifiedDate.toLocaleDateString() :\n",
              "                                    'n/a'} - `));\n",
              "    const percent = span('0% done');\n",
              "    li.appendChild(percent);\n",
              "\n",
              "    outputElement.appendChild(li);\n",
              "\n",
              "    const fileDataPromise = new Promise((resolve) => {\n",
              "      const reader = new FileReader();\n",
              "      reader.onload = (e) => {\n",
              "        resolve(e.target.result);\n",
              "      };\n",
              "      reader.readAsArrayBuffer(file);\n",
              "    });\n",
              "    // Wait for the data to be ready.\n",
              "    let fileData = yield {\n",
              "      promise: fileDataPromise,\n",
              "      response: {\n",
              "        action: 'continue',\n",
              "      }\n",
              "    };\n",
              "\n",
              "    // Use a chunked sending to avoid message size limits. See b/62115660.\n",
              "    let position = 0;\n",
              "    do {\n",
              "      const length = Math.min(fileData.byteLength - position, MAX_PAYLOAD_SIZE);\n",
              "      const chunk = new Uint8Array(fileData, position, length);\n",
              "      position += length;\n",
              "\n",
              "      const base64 = btoa(String.fromCharCode.apply(null, chunk));\n",
              "      yield {\n",
              "        response: {\n",
              "          action: 'append',\n",
              "          file: file.name,\n",
              "          data: base64,\n",
              "        },\n",
              "      };\n",
              "\n",
              "      let percentDone = fileData.byteLength === 0 ?\n",
              "          100 :\n",
              "          Math.round((position / fileData.byteLength) * 100);\n",
              "      percent.textContent = `${percentDone}% done`;\n",
              "\n",
              "    } while (position < fileData.byteLength);\n",
              "  }\n",
              "\n",
              "  // All done.\n",
              "  yield {\n",
              "    response: {\n",
              "      action: 'complete',\n",
              "    }\n",
              "  };\n",
              "}\n",
              "\n",
              "scope.google = scope.google || {};\n",
              "scope.google.colab = scope.google.colab || {};\n",
              "scope.google.colab._files = {\n",
              "  _uploadFiles,\n",
              "  _uploadFilesContinue,\n",
              "};\n",
              "})(self);\n",
              "</script> "
            ]
          },
          "metadata": {}
        },
        {
          "output_type": "stream",
          "name": "stdout",
          "text": [
            "Saving gmail-sorter-457417-373253ca841a.json to gmail-sorter-457417-373253ca841a (2).json\n",
            "Downloading tokenized dataset…\n"
          ]
        },
        {
          "output_type": "stream",
          "name": "stderr",
          "text": [
            "\u001b[34m\u001b[1mwandb\u001b[0m: \u001b[33mWARNING\u001b[0m Calling wandb.login() after wandb.init() has no effect.\n"
          ]
        },
        {
          "output_type": "stream",
          "name": "stdout",
          "text": [
            "Loading dataset splits…\n",
            "Dataset splits loaded: {'train': 5359, 'validation': 596, 'test': 662}\n",
            "Files in ./tokenized_data:\n",
            "  ./tokenized_data/dataset_dict.json\n",
            "  ./tokenized_data/train/state.json\n",
            "  ./tokenized_data/train/dataset_info.json\n",
            "  ./tokenized_data/train/data-00000-of-00001.arrow\n",
            "  ./tokenized_data/test/state.json\n",
            "  ./tokenized_data/test/dataset_info.json\n",
            "  ./tokenized_data/test/data-00000-of-00001.arrow\n",
            "  ./tokenized_data/validation/state.json\n",
            "  ./tokenized_data/validation/dataset_info.json\n",
            "  ./tokenized_data/validation/data-00000-of-00001.arrow\n",
            "Loading label schema...\n",
            "Loaded 51 labels: ['A-Levels', 'Ameen', 'apt search', 'Ayra', 'Banking & Investments/Al Meezan', 'Banking & Investments/Leads', 'Banking & Investments/Meezan', 'Banking & Investments/RBC', 'Banking & Investments/Scotia', 'Banking & Investments/Support', 'Banking & Investments/TD', 'Banking & Investments/Walmart', 'Banking & Investments/Wealthsimple', 'Banking & Investments/Wise', 'Bookings/Communauto', 'Bookings/Flights', 'Bookings/Hotel', 'Bookings/Transport', 'DOCS', 'Events & Tickets', 'Food & Shopping/Cancellations/Refunds', 'Food & Shopping/Delivery updates', 'Food & Shopping/loyalty & discounts', 'Food & Shopping/Receipts', 'Food & Shopping/Support', 'Government', 'Healthcare', 'Home/Fido', 'Home/Fizz', 'Home/Hydro', 'Home/Insurance', 'Home/Opus 6', 'Job Search/Applied', 'Job Search/Leads', 'Job Search/Next steps', 'Job Search/Rejected', 'Marium', 'McGill', 'Newsletters', 'Papa', 'Payments & Subscriptions/Action Required', 'Payments & Subscriptions/Cancellations & Refunds', 'Payments & Subscriptions/Confirmations', 'Payments & Subscriptions/Support', 'Security & Verification/Account Activity', 'Security & Verification/Action Required', 'Security & Verification/Codes & Links', 'Work/Developer', 'Work/Freelance', 'Work/Study & Coursework', 'Work/SURE']\n",
            "Using device: cuda\n"
          ]
        },
        {
          "output_type": "display_data",
          "data": {
            "text/plain": [
              "<IPython.core.display.HTML object>"
            ],
            "text/html": [
              "Finishing previous runs because reinit is set to 'default'."
            ]
          },
          "metadata": {}
        },
        {
          "output_type": "display_data",
          "data": {
            "text/plain": [
              "<IPython.core.display.HTML object>"
            ],
            "text/html": []
          },
          "metadata": {}
        },
        {
          "output_type": "display_data",
          "data": {
            "text/plain": [
              "<IPython.core.display.HTML object>"
            ],
            "text/html": [
              " View run <strong style=\"color:#cdcd00\">amber-firefly-3</strong> at: <a href='https://wandb.ai/musabumair0191/gmail-sorter/runs/8v1kjzlz' target=\"_blank\">https://wandb.ai/musabumair0191/gmail-sorter/runs/8v1kjzlz</a><br> View project at: <a href='https://wandb.ai/musabumair0191/gmail-sorter' target=\"_blank\">https://wandb.ai/musabumair0191/gmail-sorter</a><br>Synced 5 W&B file(s), 0 media file(s), 0 artifact file(s) and 0 other file(s)"
            ]
          },
          "metadata": {}
        },
        {
          "output_type": "display_data",
          "data": {
            "text/plain": [
              "<IPython.core.display.HTML object>"
            ],
            "text/html": [
              "Find logs at: <code>./wandb/run-20250712_221219-8v1kjzlz/logs</code>"
            ]
          },
          "metadata": {}
        },
        {
          "output_type": "display_data",
          "data": {
            "text/plain": [
              "<IPython.core.display.HTML object>"
            ],
            "text/html": [
              "Tracking run with wandb version 0.21.0"
            ]
          },
          "metadata": {}
        },
        {
          "output_type": "display_data",
          "data": {
            "text/plain": [
              "<IPython.core.display.HTML object>"
            ],
            "text/html": [
              "Run data is saved locally in <code>/content/wandb/run-20250712_221853-knl65f4t</code>"
            ]
          },
          "metadata": {}
        },
        {
          "output_type": "display_data",
          "data": {
            "text/plain": [
              "<IPython.core.display.HTML object>"
            ],
            "text/html": [
              "Syncing run <strong><a href='https://wandb.ai/musabumair0191/gmail-sorter/runs/knl65f4t' target=\"_blank\">rural-firebrand-4</a></strong> to <a href='https://wandb.ai/musabumair0191/gmail-sorter' target=\"_blank\">Weights & Biases</a> (<a href='https://wandb.me/developer-guide' target=\"_blank\">docs</a>)<br>"
            ]
          },
          "metadata": {}
        },
        {
          "output_type": "display_data",
          "data": {
            "text/plain": [
              "<IPython.core.display.HTML object>"
            ],
            "text/html": [
              " View project at <a href='https://wandb.ai/musabumair0191/gmail-sorter' target=\"_blank\">https://wandb.ai/musabumair0191/gmail-sorter</a>"
            ]
          },
          "metadata": {}
        },
        {
          "output_type": "display_data",
          "data": {
            "text/plain": [
              "<IPython.core.display.HTML object>"
            ],
            "text/html": [
              " View run at <a href='https://wandb.ai/musabumair0191/gmail-sorter/runs/knl65f4t' target=\"_blank\">https://wandb.ai/musabumair0191/gmail-sorter/runs/knl65f4t</a>"
            ]
          },
          "metadata": {}
        },
        {
          "output_type": "stream",
          "name": "stdout",
          "text": [
            "Initializing model from checkpoint: bert-base-uncased\n"
          ]
        },
        {
          "output_type": "stream",
          "name": "stderr",
          "text": [
            "Some weights of BertForSequenceClassification were not initialized from the model checkpoint at bert-base-uncased and are newly initialized: ['classifier.bias', 'classifier.weight']\n",
            "You should probably TRAIN this model on a down-stream task to be able to use it for predictions and inference.\n"
          ]
        },
        {
          "output_type": "stream",
          "name": "stdout",
          "text": [
            "Starting training...\n"
          ]
        },
        {
          "output_type": "display_data",
          "data": {
            "text/plain": [
              "<IPython.core.display.HTML object>"
            ],
            "text/html": [
              "\n",
              "    <div>\n",
              "      \n",
              "      <progress value='3015' max='3350' style='width:300px; height:20px; vertical-align: middle;'></progress>\n",
              "      [3015/3350 1:25:35 < 09:30, 0.59 it/s, Epoch 9/10]\n",
              "    </div>\n",
              "    <table border=\"1\" class=\"dataframe\">\n",
              "  <thead>\n",
              " <tr style=\"text-align: left;\">\n",
              "      <th>Epoch</th>\n",
              "      <th>Training Loss</th>\n",
              "      <th>Validation Loss</th>\n",
              "      <th>Accuracy</th>\n",
              "    </tr>\n",
              "  </thead>\n",
              "  <tbody>\n",
              "    <tr>\n",
              "      <td>1</td>\n",
              "      <td>No log</td>\n",
              "      <td>1.181556</td>\n",
              "      <td>0.766779</td>\n",
              "    </tr>\n",
              "    <tr>\n",
              "      <td>2</td>\n",
              "      <td>1.730200</td>\n",
              "      <td>0.610748</td>\n",
              "      <td>0.904362</td>\n",
              "    </tr>\n",
              "    <tr>\n",
              "      <td>3</td>\n",
              "      <td>0.540000</td>\n",
              "      <td>0.396403</td>\n",
              "      <td>0.922819</td>\n",
              "    </tr>\n",
              "    <tr>\n",
              "      <td>4</td>\n",
              "      <td>0.540000</td>\n",
              "      <td>0.306657</td>\n",
              "      <td>0.939597</td>\n",
              "    </tr>\n",
              "    <tr>\n",
              "      <td>5</td>\n",
              "      <td>0.218500</td>\n",
              "      <td>0.284562</td>\n",
              "      <td>0.942953</td>\n",
              "    </tr>\n",
              "    <tr>\n",
              "      <td>6</td>\n",
              "      <td>0.107300</td>\n",
              "      <td>0.244170</td>\n",
              "      <td>0.949664</td>\n",
              "    </tr>\n",
              "    <tr>\n",
              "      <td>7</td>\n",
              "      <td>0.107300</td>\n",
              "      <td>0.234403</td>\n",
              "      <td>0.954698</td>\n",
              "    </tr>\n",
              "    <tr>\n",
              "      <td>8</td>\n",
              "      <td>0.062100</td>\n",
              "      <td>0.228768</td>\n",
              "      <td>0.949664</td>\n",
              "    </tr>\n",
              "    <tr>\n",
              "      <td>9</td>\n",
              "      <td>0.045000</td>\n",
              "      <td>0.223871</td>\n",
              "      <td>0.954698</td>\n",
              "    </tr>\n",
              "  </tbody>\n",
              "</table><p>"
            ]
          },
          "metadata": {}
        },
        {
          "output_type": "stream",
          "name": "stdout",
          "text": [
            "Model saved locally to: ./results\n",
            "Uploading model artifacts to GCS...\n",
            "Artifacts uploaded to: gs://gmail-sorter-project/model_artifacts/bert-finetuned-v1\n",
            "✅ Model is ready for deployment on Vertex AI.\n",
            "Model artifacts location: gs://gmail-sorter-project/model_artifacts/bert-finetuned-v1\n",
            "Use this path in Vertex AI > Models to create a custom model deployment.\n"
          ]
        }
      ],
      "source": [
        "# =================================\n",
        "# 1. SETUP & AUTHENTICATION\n",
        "# =================================\n",
        "import os\n",
        "import json\n",
        "import logging\n",
        "from pathlib import Path\n",
        "from google.colab import files\n",
        "from google.cloud import storage\n",
        "from datasets import load_from_disk, DatasetDict\n",
        "\n",
        "# Logging setup\n",
        "logging.basicConfig(level=logging.INFO)\n",
        "logger = logging.getLogger(__name__)\n",
        "\n",
        "# Upload Google Cloud service account key\n",
        "print(\"Upload your service account key JSON file...\")\n",
        "uploaded = files.upload()\n",
        "KEY_FILE = list(uploaded.keys())[0]\n",
        "\n",
        "# Set GCP credentials\n",
        "os.environ[\"GOOGLE_APPLICATION_CREDENTIALS\"] = KEY_FILE\n",
        "\n",
        "# Define GCP parameters\n",
        "PROJECT_ID = \"gmail-sorter-457417\"\n",
        "BUCKET_NAME = \"gmail-sorter-project\"\n",
        "GCS_TOKENIZED_DATA_PATH = f\"gs://{BUCKET_NAME}/tokenized_data/\"\n",
        "GCS_CONFIG_FILE_PATH = f\"gs://{BUCKET_NAME}/config/labels.json\"\n",
        "GCS_MODEL_OUTPUT_PATH = f\"gs://{BUCKET_NAME}/model_artifacts/bert-finetuned-v1\"\n",
        "\n",
        "# =================================\n",
        "# 2. LOAD DATA FROM GOOGLE CLOUD STORAGE\n",
        "# =================================\n",
        "def download_gcs_folder(bucket_name, source_prefix, local_dir):\n",
        "    \"\"\"Download all files in a GCS folder (prefix) to local storage.\"\"\"\n",
        "    client = storage.Client()\n",
        "    bucket = client.bucket(bucket_name)\n",
        "    blobs = bucket.list_blobs(prefix=source_prefix)\n",
        "\n",
        "    os.makedirs(local_dir, exist_ok=True)\n",
        "    for blob in blobs:\n",
        "        if blob.name.endswith('/'):\n",
        "            continue\n",
        "        relative_path = blob.name[len(source_prefix):].lstrip('/')\n",
        "        local_path = os.path.join(local_dir, relative_path)\n",
        "        os.makedirs(os.path.dirname(local_path), exist_ok=True)\n",
        "        logger.info(f\"Downloading {blob.name} to {local_path}\")\n",
        "        blob.download_to_filename(local_path)\n",
        "\n",
        "def download_gcs_file(bucket_name, source_path, local_path):\n",
        "    \"\"\"Download a single file from GCS to local.\"\"\"\n",
        "    client = storage.Client()\n",
        "    bucket = client.bucket(bucket_name)\n",
        "    blob = bucket.blob(source_path.replace(f\"gs://{bucket_name}/\", \"\"))\n",
        "    os.makedirs(os.path.dirname(local_path), exist_ok=True)\n",
        "    logger.info(f\"Downloading {source_path} to {local_path}\")\n",
        "    blob.download_to_filename(local_path)\n",
        "    with open(local_path, 'r') as f:\n",
        "        return json.load(f)\n",
        "\n",
        "# Download and load tokenized dataset\n",
        "print(\"Downloading tokenized dataset…\")\n",
        "download_gcs_folder(BUCKET_NAME, \"tokenized_data/\", \"./tokenized_data\")\n",
        "\n",
        "print(\"Loading dataset splits…\")\n",
        "base_path = Path(\"./tokenized_data\").resolve()\n",
        "tokenized_datasets = DatasetDict({\n",
        "    \"train\": load_from_disk(f\"file://{base_path}/train\"),\n",
        "    \"validation\": load_from_disk(f\"file://{base_path}/validation\"),\n",
        "    \"test\": load_from_disk(f\"file://{base_path}/test\"),\n",
        "})\n",
        "print(\"Dataset splits loaded:\", {k: v.num_rows for k, v in tokenized_datasets.items()})\n",
        "\n",
        "# Debug: list local files\n",
        "print(\"Files in ./tokenized_data:\")\n",
        "for root, _, files in os.walk(\"./tokenized_data\"):\n",
        "    for name in files:\n",
        "        print(\" \", os.path.join(root, name))\n",
        "\n",
        "# Load label schema\n",
        "print(\"Loading label schema...\")\n",
        "labels_json = download_gcs_file(BUCKET_NAME, GCS_CONFIG_FILE_PATH, \"./labels.json\")\n",
        "all_labels = labels_json[\"labels\"]\n",
        "num_labels = len(all_labels)\n",
        "print(f\"Loaded {num_labels} labels: {all_labels}\")\n",
        "\n",
        "# === LIMIT DATASET FOR QUICK TESTING ===\n",
        "# print(\"Subsetting datasets for quick test...\")\n",
        "\n",
        "# MAX_SAMPLES = 100  # adjust this as needed\n",
        "\n",
        "# tokenized_datasets[\"train\"] = tokenized_datasets[\"train\"].select(range(min(MAX_SAMPLES, len(tokenized_datasets[\"train\"]))))\n",
        "# tokenized_datasets[\"validation\"] = tokenized_datasets[\"validation\"].select(range(min(20, len(tokenized_datasets[\"validation\"]))))\n",
        "# tokenized_datasets[\"test\"] = tokenized_datasets[\"test\"].select(range(min(20, len(tokenized_datasets[\"test\"]))))\n",
        "\n",
        "# print(\"Subset sizes:\", {k: v.num_rows for k, v in tokenized_datasets.items()})\n",
        "\n",
        "# =================================\n",
        "# 3. MODEL TRAINING\n",
        "# =================================\n",
        "from transformers import (\n",
        "    AutoModelForSequenceClassification,\n",
        "    Trainer,\n",
        "    TrainingArguments,\n",
        "    EarlyStoppingCallback\n",
        ")\n",
        "from sklearn.metrics import accuracy_score\n",
        "import numpy as np\n",
        "import torch\n",
        "import wandb\n",
        "\n",
        "# Set device\n",
        "device = torch.device(\"cuda\" if torch.cuda.is_available() else \"cpu\")\n",
        "print(f\"Using device: {device}\")\n",
        "\n",
        "wandb.login()\n",
        "wandb.init(project=\"gmail-sorter\")\n",
        "\n",
        "# Metric for evaluation\n",
        "def compute_metrics(eval_pred):\n",
        "    logits, labels = eval_pred\n",
        "    preds = np.argmax(logits, axis=-1)\n",
        "    return {\"accuracy\": accuracy_score(labels, preds)}\n",
        "\n",
        "# Load pre-trained BERT model\n",
        "checkpoint = \"bert-base-uncased\"\n",
        "print(f\"Initializing model from checkpoint: {checkpoint}\")\n",
        "model = AutoModelForSequenceClassification.from_pretrained(\n",
        "    checkpoint, num_labels=num_labels\n",
        ").to(device)\n",
        "\n",
        "# Define training arguments\n",
        "LOCAL_OUTPUT_DIR = \"./results\"\n",
        "training_args = TrainingArguments(\n",
        "    output_dir=LOCAL_OUTPUT_DIR,\n",
        "    learning_rate=2e-5,\n",
        "    per_device_train_batch_size=16,\n",
        "    per_device_eval_batch_size=16,\n",
        "    num_train_epochs=10,\n",
        "    weight_decay=0.01,\n",
        "    eval_strategy=\"epoch\",\n",
        "    save_strategy=\"epoch\",\n",
        "    load_best_model_at_end=True,\n",
        "    metric_for_best_model=\"accuracy\",\n",
        "    greater_is_better=True,\n",
        "    report_to=\"wandb\",\n",
        ")\n",
        "\n",
        "# Create trainer\n",
        "trainer = Trainer(\n",
        "    model=model,\n",
        "    args=training_args,\n",
        "    train_dataset=tokenized_datasets[\"train\"],\n",
        "    eval_dataset=tokenized_datasets[\"validation\"],\n",
        "    compute_metrics=compute_metrics,\n",
        "    callbacks=[EarlyStoppingCallback(early_stopping_patience=2)]\n",
        ")\n",
        "\n",
        "# Train the model\n",
        "print(\"Starting training...\")\n",
        "trainer.train()\n",
        "trainer.save_model(LOCAL_OUTPUT_DIR)\n",
        "print(f\"Model saved locally to: {LOCAL_OUTPUT_DIR}\")\n",
        "\n",
        "# =================================\n",
        "# 4. UPLOAD MODEL TO GCS\n",
        "# =================================\n",
        "def upload_to_gcs(bucket_name, local_path, gcs_prefix):\n",
        "    \"\"\"Upload all files in a directory to GCS.\"\"\"\n",
        "    client = storage.Client()\n",
        "    bucket = client.bucket(bucket_name)\n",
        "    local_path = Path(local_path)\n",
        "\n",
        "    for file in local_path.rglob(\"*\"):\n",
        "        if file.is_file():\n",
        "            gcs_object = f\"{gcs_prefix}/{file.relative_to(local_path).as_posix()}\"\n",
        "            logger.info(f\"Uploading {file} to gs://{bucket_name}/{gcs_object}\")\n",
        "            bucket.blob(gcs_object).upload_from_filename(str(file))\n",
        "\n",
        "print(\"Uploading model artifacts to GCS...\")\n",
        "upload_to_gcs(BUCKET_NAME, LOCAL_OUTPUT_DIR, \"model_artifacts/bert-finetuned-v1\")\n",
        "print(f\"Artifacts uploaded to: {GCS_MODEL_OUTPUT_PATH}\")\n",
        "\n",
        "# =================================\n",
        "# 5. READY FOR DEPLOYMENT\n",
        "# =================================\n",
        "print(\"✅ Model is ready for deployment on Vertex AI.\")\n",
        "print(f\"Model artifacts location: {GCS_MODEL_OUTPUT_PATH}\")\n",
        "print(\"Use this path in Vertex AI > Models to create a custom model deployment.\")"
      ]
    },
    {
      "cell_type": "markdown",
      "source": [
        "# Resume training"
      ],
      "metadata": {
        "id": "2l0U7Tf2Br3L"
      }
    },
    {
      "cell_type": "code",
      "source": [
        "# =================================\n",
        "# 1. SETUP & AUTHENTICATION\n",
        "# =================================\n",
        "import os\n",
        "import json\n",
        "import logging\n",
        "from pathlib import Path\n",
        "from google.colab import files\n",
        "from google.cloud import storage\n",
        "from datasets import load_from_disk, DatasetDict\n",
        "\n",
        "# Logging setup\n",
        "logging.basicConfig(level=logging.INFO)\n",
        "logger = logging.getLogger(__name__)\n",
        "\n",
        "# Upload Google Cloud service account key\n",
        "print(\"Upload your service account key JSON file...\")\n",
        "uploaded = files.upload()\n",
        "KEY_FILE = list(uploaded.keys())[0]\n",
        "\n",
        "# Set GCP credentials\n",
        "os.environ[\"GOOGLE_APPLICATION_CREDENTIALS\"] = KEY_FILE\n",
        "\n",
        "# Define GCP parameters\n",
        "PROJECT_ID = \"gmail-sorter-457417\"\n",
        "BUCKET_NAME = \"gmail-sorter-project\"\n",
        "GCS_TOKENIZED_DATA_PATH = f\"gs://{BUCKET_NAME}/tokenized_data/\"\n",
        "GCS_CONFIG_FILE_PATH = f\"gs://{BUCKET_NAME}/config/labels.json\"\n",
        "GCS_MODEL_OUTPUT_PATH = f\"gs://{BUCKET_NAME}/model_artifacts/bert-finetuned-v1\"\n",
        "\n",
        "# =================================\n",
        "# 2. LOAD DATA FROM GOOGLE CLOUD STORAGE\n",
        "# =================================\n",
        "def download_gcs_folder(bucket_name, source_prefix, local_dir):\n",
        "    \"\"\"Download all files in a GCS folder (prefix) to local storage.\"\"\"\n",
        "    client = storage.Client()\n",
        "    bucket = client.bucket(bucket_name)\n",
        "    blobs = bucket.list_blobs(prefix=source_prefix)\n",
        "\n",
        "    os.makedirs(local_dir, exist_ok=True)\n",
        "    for blob in blobs:\n",
        "        if blob.name.endswith('/'):\n",
        "            continue\n",
        "        relative_path = blob.name[len(source_prefix):].lstrip('/')\n",
        "        local_path = os.path.join(local_dir, relative_path)\n",
        "        os.makedirs(os.path.dirname(local_path), exist_ok=True)\n",
        "        logger.info(f\"Downloading {blob.name} to {local_path}\")\n",
        "        blob.download_to_filename(local_path)\n",
        "\n",
        "def download_gcs_file(bucket_name, source_path, local_path):\n",
        "    \"\"\"Download a single file from GCS to local.\"\"\"\n",
        "    client = storage.Client()\n",
        "    bucket = client.bucket(bucket_name)\n",
        "    blob = bucket.blob(source_path.replace(f\"gs://{bucket_name}/\", \"\"))\n",
        "    os.makedirs(os.path.dirname(local_path), exist_ok=True)\n",
        "    logger.info(f\"Downloading {source_path} to {local_path}\")\n",
        "    blob.download_to_filename(local_path)\n",
        "    with open(local_path, 'r') as f:\n",
        "        return json.load(f)\n",
        "\n",
        "# Download and load tokenized dataset\n",
        "print(\"Downloading tokenized dataset…\")\n",
        "download_gcs_folder(BUCKET_NAME, \"tokenized_data/\", \"./tokenized_data\")\n",
        "\n",
        "print(\"Loading dataset splits…\")\n",
        "base_path = Path(\"./tokenized_data\").resolve()\n",
        "tokenized_datasets = DatasetDict({\n",
        "    \"train\": load_from_disk(f\"file://{base_path}/train\"),\n",
        "    \"validation\": load_from_disk(f\"file://{base_path}/validation\"),\n",
        "    \"test\": load_from_disk(f\"file://{base_path}/test\"),\n",
        "})\n",
        "print(\"Dataset splits loaded:\", {k: v.num_rows for k, v in tokenized_datasets.items()})\n",
        "\n",
        "# Debug: list local files\n",
        "print(\"Files in ./tokenized_data:\")\n",
        "for root, _, files in os.walk(\"./tokenized_data\"):\n",
        "    for name in files:\n",
        "        print(\" \", os.path.join(root, name))\n",
        "\n",
        "# Load label schema\n",
        "print(\"Loading label schema...\")\n",
        "labels_json = download_gcs_file(BUCKET_NAME, GCS_CONFIG_FILE_PATH, \"./labels.json\")\n",
        "all_labels = labels_json[\"labels\"]\n",
        "num_labels = len(all_labels)\n",
        "print(f\"Loaded {num_labels} labels: {all_labels}\")\n",
        "\n",
        "# === LIMIT DATASET FOR QUICK TESTING ===\n",
        "# print(\"Subsetting datasets for quick test...\")\n",
        "\n",
        "# MAX_SAMPLES = 100  # adjust this as needed\n",
        "\n",
        "# tokenized_datasets[\"train\"] = tokenized_datasets[\"train\"].select(range(min(MAX_SAMPLES, len(tokenized_datasets[\"train\"]))))\n",
        "# tokenized_datasets[\"validation\"] = tokenized_datasets[\"validation\"].select(range(min(20, len(tokenized_datasets[\"validation\"]))))\n",
        "# tokenized_datasets[\"test\"] = tokenized_datasets[\"test\"].select(range(min(20, len(tokenized_datasets[\"test\"]))))\n",
        "\n",
        "# print(\"Subset sizes:\", {k: v.num_rows for k, v in tokenized_datasets.items()})\n",
        "# ------------------------------------------------------------\n",
        "# 3. MODEL TRAINING  (strict resume‑only mode)\n",
        "# ------------------------------------------------------------\n",
        "from transformers import (\n",
        "    AutoModelForSequenceClassification,\n",
        "    Trainer,\n",
        "    TrainingArguments,\n",
        "    EarlyStoppingCallback\n",
        ")\n",
        "from sklearn.metrics import accuracy_score\n",
        "import numpy as np\n",
        "import torch\n",
        "import wandb\n",
        "from google.cloud import storage\n",
        "from pathlib import Path\n",
        "import re\n",
        "import sys\n",
        "\n",
        "# ---------- 3.1  WandB ------------------------------------------------------\n",
        "wandb.login()\n",
        "wandb.init(\n",
        "    project=\"gmail-sorter\",\n",
        "    id=\"knl65f4t\",          # previous run ID\n",
        "    resume=\"allow\",\n",
        "    reinit=True\n",
        ")\n",
        "\n",
        "# ---------- 3.2  Helper to fetch latest checkpoint --------------------------\n",
        "LATEST_PREFIX = \"model_artifacts/bert-finetuned-v1/\"\n",
        "\n",
        "def fetch_latest_checkpoint(bucket_name, gcs_prefix, local_root=\"./results\"):\n",
        "    \"\"\"\n",
        "    Return the *local* path to the most recent checkpoint.\n",
        "    If none exists, return None.\n",
        "    \"\"\"\n",
        "    client = storage.Client()\n",
        "    bucket = client.bucket(bucket_name)\n",
        "\n",
        "    pattern = re.compile(rf\"^{re.escape(gcs_prefix)}checkpoint-(\\d+)/\")\n",
        "    candidates = {}\n",
        "\n",
        "    # ⚠️  No delimiter -> walk entire prefix tree\n",
        "    for blob in bucket.list_blobs(prefix=gcs_prefix):\n",
        "        m = pattern.match(blob.name)\n",
        "        if m:\n",
        "            step = int(m.group(1))\n",
        "            candidates[step] = f\"{gcs_prefix}checkpoint-{step}/\"\n",
        "\n",
        "    if not candidates:\n",
        "        return None\n",
        "\n",
        "    step = max(candidates)\n",
        "    remote_prefix = candidates[step]\n",
        "    print(f\"🡇  Latest checkpoint in GCS: {remote_prefix}\")\n",
        "\n",
        "    local_dir = Path(local_root) / f\"checkpoint-{step}\"\n",
        "    from shutil import rmtree\n",
        "    if local_dir.exists():\n",
        "        rmtree(local_dir)        # clean stale copy\n",
        "    download_gcs_folder(bucket_name, remote_prefix, str(local_dir))\n",
        "    return str(local_dir)\n",
        "\n",
        "# ---------- 3.3  Enforce resume‑only ---------------------------------------\n",
        "LOCAL_OUTPUT_DIR = \"./results\"\n",
        "local_checkpoint = fetch_latest_checkpoint(\n",
        "    BUCKET_NAME, LATEST_PREFIX, LOCAL_OUTPUT_DIR\n",
        ")\n",
        "\n",
        "if local_checkpoint is None:\n",
        "    print(\"❌  No checkpoint found – aborting (resume‑only mode).\")\n",
        "    sys.exit(1)      # stop the cell here\n",
        "\n",
        "print(f\"✅  Resuming from checkpoint: {local_checkpoint}\")\n",
        "\n",
        "# ---------- 3.4  Build model -----------------------------------------------\n",
        "device = torch.device(\"cuda\" if torch.cuda.is_available() else \"cpu\")\n",
        "model = AutoModelForSequenceClassification.from_pretrained(\n",
        "    local_checkpoint,\n",
        "    num_labels=num_labels\n",
        ").to(device)\n",
        "\n",
        "# ---------- 3.5  Training arguments ----------------------------------------\n",
        "training_args = TrainingArguments(\n",
        "    output_dir=LOCAL_OUTPUT_DIR,\n",
        "    learning_rate=2e-5,\n",
        "    per_device_train_batch_size=16,\n",
        "    per_device_eval_batch_size=16,\n",
        "    num_train_epochs=10,\n",
        "    weight_decay=0.01,\n",
        "    eval_strategy=\"epoch\",\n",
        "    save_strategy=\"epoch\",\n",
        "    save_total_limit=None,\n",
        "    load_best_model_at_end=True,\n",
        "    metric_for_best_model=\"accuracy\",\n",
        "    greater_is_better=True,\n",
        "    logging_strategy=\"epoch\",\n",
        "    report_to=\"wandb\",\n",
        ")\n",
        "\n",
        "# ---------- 3.6  Trainer ----------------------------------------------------\n",
        "def compute_metrics(eval_pred):\n",
        "    logits, labels = eval_pred\n",
        "    return {\"accuracy\": accuracy_score(labels, np.argmax(logits, axis=-1))}\n",
        "\n",
        "trainer = Trainer(\n",
        "    model=model,\n",
        "    args=training_args,\n",
        "    train_dataset=tokenized_datasets[\"train\"],\n",
        "    eval_dataset=tokenized_datasets[\"validation\"],\n",
        "    compute_metrics=compute_metrics,\n",
        "    callbacks=[EarlyStoppingCallback(early_stopping_patience=2)],\n",
        ")\n",
        "\n",
        "# ---------- 3.7  Resume training -------------------------------------------\n",
        "print(\"🚀  Continuing training …\")\n",
        "trainer.train(resume_from_checkpoint=True)\n",
        "\n",
        "# ---------- 3.8  Save + upload as before -----------------------------------\n",
        "trainer.save_model(LOCAL_OUTPUT_DIR)\n",
        "\n",
        "# =================================\n",
        "# 4. UPLOAD MODEL TO GCS\n",
        "# =================================\n",
        "def upload_to_gcs(bucket_name, local_path, gcs_prefix):\n",
        "    \"\"\"Upload all files in a directory to GCS.\"\"\"\n",
        "    client = storage.Client()\n",
        "    bucket = client.bucket(bucket_name)\n",
        "    local_path = Path(local_path)\n",
        "\n",
        "    for file in local_path.rglob(\"*\"):\n",
        "        if file.is_file():\n",
        "            gcs_object = f\"{gcs_prefix}/{file.relative_to(local_path).as_posix()}\"\n",
        "            logger.info(f\"Uploading {file} to gs://{bucket_name}/{gcs_object}\")\n",
        "            bucket.blob(gcs_object).upload_from_filename(str(file))\n",
        "\n",
        "print(\"Uploading model artifacts to GCS...\")\n",
        "upload_to_gcs(BUCKET_NAME, LOCAL_OUTPUT_DIR, \"model_artifacts/bert-finetuned-v1\")\n",
        "print(f\"Artifacts uploaded to: {GCS_MODEL_OUTPUT_PATH}\")\n",
        "\n",
        "# =================================\n",
        "# 5. READY FOR DEPLOYMENT\n",
        "# =================================\n",
        "print(\"✅ Model is ready for deployment on Vertex AI.\")\n",
        "print(f\"Model artifacts location: {GCS_MODEL_OUTPUT_PATH}\")\n",
        "print(\"Use this path in Vertex AI > Models to create a custom model deployment.\")"
      ],
      "metadata": {
        "colab": {
          "base_uri": "https://localhost:8080/",
          "height": 1000
        },
        "id": "UMQ_kDQo_Jqs",
        "outputId": "c02a7318-6573-4c70-d967-49be17506599"
      },
      "execution_count": 3,
      "outputs": [
        {
          "output_type": "stream",
          "name": "stdout",
          "text": [
            "Requirement already satisfied: datasets in /usr/local/lib/python3.11/dist-packages (4.0.0)\n",
            "Requirement already satisfied: pyarrow in /usr/local/lib/python3.11/dist-packages (20.0.0)\n",
            "Requirement already satisfied: fsspec in /usr/local/lib/python3.11/dist-packages (2025.3.0)\n",
            "Collecting fsspec\n",
            "  Using cached fsspec-2025.5.1-py3-none-any.whl.metadata (11 kB)\n",
            "Requirement already satisfied: filelock in /usr/local/lib/python3.11/dist-packages (from datasets) (3.18.0)\n",
            "Requirement already satisfied: numpy>=1.17 in /usr/local/lib/python3.11/dist-packages (from datasets) (2.0.2)\n",
            "Requirement already satisfied: dill<0.3.9,>=0.3.0 in /usr/local/lib/python3.11/dist-packages (from datasets) (0.3.7)\n",
            "Requirement already satisfied: pandas in /usr/local/lib/python3.11/dist-packages (from datasets) (2.2.2)\n",
            "Requirement already satisfied: requests>=2.32.2 in /usr/local/lib/python3.11/dist-packages (from datasets) (2.32.3)\n",
            "Requirement already satisfied: tqdm>=4.66.3 in /usr/local/lib/python3.11/dist-packages (from datasets) (4.67.1)\n",
            "Requirement already satisfied: xxhash in /usr/local/lib/python3.11/dist-packages (from datasets) (3.5.0)\n",
            "Requirement already satisfied: multiprocess<0.70.17 in /usr/local/lib/python3.11/dist-packages (from datasets) (0.70.15)\n",
            "Requirement already satisfied: huggingface-hub>=0.24.0 in /usr/local/lib/python3.11/dist-packages (from datasets) (0.33.2)\n",
            "Requirement already satisfied: packaging in /usr/local/lib/python3.11/dist-packages (from datasets) (24.2)\n",
            "Requirement already satisfied: pyyaml>=5.1 in /usr/local/lib/python3.11/dist-packages (from datasets) (6.0.2)\n",
            "Requirement already satisfied: aiohttp!=4.0.0a0,!=4.0.0a1 in /usr/local/lib/python3.11/dist-packages (from fsspec[http]<=2025.3.0,>=2023.1.0->datasets) (3.11.15)\n",
            "Requirement already satisfied: typing-extensions>=3.7.4.3 in /usr/local/lib/python3.11/dist-packages (from huggingface-hub>=0.24.0->datasets) (4.14.1)\n",
            "Requirement already satisfied: hf-xet<2.0.0,>=1.1.2 in /usr/local/lib/python3.11/dist-packages (from huggingface-hub>=0.24.0->datasets) (1.1.5)\n",
            "Requirement already satisfied: charset-normalizer<4,>=2 in /usr/local/lib/python3.11/dist-packages (from requests>=2.32.2->datasets) (3.4.2)\n",
            "Requirement already satisfied: idna<4,>=2.5 in /usr/local/lib/python3.11/dist-packages (from requests>=2.32.2->datasets) (3.10)\n",
            "Requirement already satisfied: urllib3<3,>=1.21.1 in /usr/local/lib/python3.11/dist-packages (from requests>=2.32.2->datasets) (2.4.0)\n",
            "Requirement already satisfied: certifi>=2017.4.17 in /usr/local/lib/python3.11/dist-packages (from requests>=2.32.2->datasets) (2025.7.9)\n",
            "Requirement already satisfied: python-dateutil>=2.8.2 in /usr/local/lib/python3.11/dist-packages (from pandas->datasets) (2.9.0.post0)\n",
            "Requirement already satisfied: pytz>=2020.1 in /usr/local/lib/python3.11/dist-packages (from pandas->datasets) (2025.2)\n",
            "Requirement already satisfied: tzdata>=2022.7 in /usr/local/lib/python3.11/dist-packages (from pandas->datasets) (2025.2)\n",
            "Requirement already satisfied: aiohappyeyeballs>=2.3.0 in /usr/local/lib/python3.11/dist-packages (from aiohttp!=4.0.0a0,!=4.0.0a1->fsspec[http]<=2025.3.0,>=2023.1.0->datasets) (2.6.1)\n",
            "Requirement already satisfied: aiosignal>=1.1.2 in /usr/local/lib/python3.11/dist-packages (from aiohttp!=4.0.0a0,!=4.0.0a1->fsspec[http]<=2025.3.0,>=2023.1.0->datasets) (1.4.0)\n",
            "Requirement already satisfied: attrs>=17.3.0 in /usr/local/lib/python3.11/dist-packages (from aiohttp!=4.0.0a0,!=4.0.0a1->fsspec[http]<=2025.3.0,>=2023.1.0->datasets) (25.3.0)\n",
            "Requirement already satisfied: frozenlist>=1.1.1 in /usr/local/lib/python3.11/dist-packages (from aiohttp!=4.0.0a0,!=4.0.0a1->fsspec[http]<=2025.3.0,>=2023.1.0->datasets) (1.7.0)\n",
            "Requirement already satisfied: multidict<7.0,>=4.5 in /usr/local/lib/python3.11/dist-packages (from aiohttp!=4.0.0a0,!=4.0.0a1->fsspec[http]<=2025.3.0,>=2023.1.0->datasets) (6.6.3)\n",
            "Requirement already satisfied: propcache>=0.2.0 in /usr/local/lib/python3.11/dist-packages (from aiohttp!=4.0.0a0,!=4.0.0a1->fsspec[http]<=2025.3.0,>=2023.1.0->datasets) (0.3.2)\n",
            "Requirement already satisfied: yarl<2.0,>=1.17.0 in /usr/local/lib/python3.11/dist-packages (from aiohttp!=4.0.0a0,!=4.0.0a1->fsspec[http]<=2025.3.0,>=2023.1.0->datasets) (1.20.1)\n",
            "Requirement already satisfied: six>=1.5 in /usr/local/lib/python3.11/dist-packages (from python-dateutil>=2.8.2->pandas->datasets) (1.17.0)\n",
            "Upload your service account key JSON file...\n"
          ]
        },
        {
          "output_type": "display_data",
          "data": {
            "text/plain": [
              "<IPython.core.display.HTML object>"
            ],
            "text/html": [
              "\n",
              "     <input type=\"file\" id=\"files-6ceb2aaa-40e5-49f7-a4a7-e11ac75d17dd\" name=\"files[]\" multiple disabled\n",
              "        style=\"border:none\" />\n",
              "     <output id=\"result-6ceb2aaa-40e5-49f7-a4a7-e11ac75d17dd\">\n",
              "      Upload widget is only available when the cell has been executed in the\n",
              "      current browser session. Please rerun this cell to enable.\n",
              "      </output>\n",
              "      <script>// Copyright 2017 Google LLC\n",
              "//\n",
              "// Licensed under the Apache License, Version 2.0 (the \"License\");\n",
              "// you may not use this file except in compliance with the License.\n",
              "// You may obtain a copy of the License at\n",
              "//\n",
              "//      http://www.apache.org/licenses/LICENSE-2.0\n",
              "//\n",
              "// Unless required by applicable law or agreed to in writing, software\n",
              "// distributed under the License is distributed on an \"AS IS\" BASIS,\n",
              "// WITHOUT WARRANTIES OR CONDITIONS OF ANY KIND, either express or implied.\n",
              "// See the License for the specific language governing permissions and\n",
              "// limitations under the License.\n",
              "\n",
              "/**\n",
              " * @fileoverview Helpers for google.colab Python module.\n",
              " */\n",
              "(function(scope) {\n",
              "function span(text, styleAttributes = {}) {\n",
              "  const element = document.createElement('span');\n",
              "  element.textContent = text;\n",
              "  for (const key of Object.keys(styleAttributes)) {\n",
              "    element.style[key] = styleAttributes[key];\n",
              "  }\n",
              "  return element;\n",
              "}\n",
              "\n",
              "// Max number of bytes which will be uploaded at a time.\n",
              "const MAX_PAYLOAD_SIZE = 100 * 1024;\n",
              "\n",
              "function _uploadFiles(inputId, outputId) {\n",
              "  const steps = uploadFilesStep(inputId, outputId);\n",
              "  const outputElement = document.getElementById(outputId);\n",
              "  // Cache steps on the outputElement to make it available for the next call\n",
              "  // to uploadFilesContinue from Python.\n",
              "  outputElement.steps = steps;\n",
              "\n",
              "  return _uploadFilesContinue(outputId);\n",
              "}\n",
              "\n",
              "// This is roughly an async generator (not supported in the browser yet),\n",
              "// where there are multiple asynchronous steps and the Python side is going\n",
              "// to poll for completion of each step.\n",
              "// This uses a Promise to block the python side on completion of each step,\n",
              "// then passes the result of the previous step as the input to the next step.\n",
              "function _uploadFilesContinue(outputId) {\n",
              "  const outputElement = document.getElementById(outputId);\n",
              "  const steps = outputElement.steps;\n",
              "\n",
              "  const next = steps.next(outputElement.lastPromiseValue);\n",
              "  return Promise.resolve(next.value.promise).then((value) => {\n",
              "    // Cache the last promise value to make it available to the next\n",
              "    // step of the generator.\n",
              "    outputElement.lastPromiseValue = value;\n",
              "    return next.value.response;\n",
              "  });\n",
              "}\n",
              "\n",
              "/**\n",
              " * Generator function which is called between each async step of the upload\n",
              " * process.\n",
              " * @param {string} inputId Element ID of the input file picker element.\n",
              " * @param {string} outputId Element ID of the output display.\n",
              " * @return {!Iterable<!Object>} Iterable of next steps.\n",
              " */\n",
              "function* uploadFilesStep(inputId, outputId) {\n",
              "  const inputElement = document.getElementById(inputId);\n",
              "  inputElement.disabled = false;\n",
              "\n",
              "  const outputElement = document.getElementById(outputId);\n",
              "  outputElement.innerHTML = '';\n",
              "\n",
              "  const pickedPromise = new Promise((resolve) => {\n",
              "    inputElement.addEventListener('change', (e) => {\n",
              "      resolve(e.target.files);\n",
              "    });\n",
              "  });\n",
              "\n",
              "  const cancel = document.createElement('button');\n",
              "  inputElement.parentElement.appendChild(cancel);\n",
              "  cancel.textContent = 'Cancel upload';\n",
              "  const cancelPromise = new Promise((resolve) => {\n",
              "    cancel.onclick = () => {\n",
              "      resolve(null);\n",
              "    };\n",
              "  });\n",
              "\n",
              "  // Wait for the user to pick the files.\n",
              "  const files = yield {\n",
              "    promise: Promise.race([pickedPromise, cancelPromise]),\n",
              "    response: {\n",
              "      action: 'starting',\n",
              "    }\n",
              "  };\n",
              "\n",
              "  cancel.remove();\n",
              "\n",
              "  // Disable the input element since further picks are not allowed.\n",
              "  inputElement.disabled = true;\n",
              "\n",
              "  if (!files) {\n",
              "    return {\n",
              "      response: {\n",
              "        action: 'complete',\n",
              "      }\n",
              "    };\n",
              "  }\n",
              "\n",
              "  for (const file of files) {\n",
              "    const li = document.createElement('li');\n",
              "    li.append(span(file.name, {fontWeight: 'bold'}));\n",
              "    li.append(span(\n",
              "        `(${file.type || 'n/a'}) - ${file.size} bytes, ` +\n",
              "        `last modified: ${\n",
              "            file.lastModifiedDate ? file.lastModifiedDate.toLocaleDateString() :\n",
              "                                    'n/a'} - `));\n",
              "    const percent = span('0% done');\n",
              "    li.appendChild(percent);\n",
              "\n",
              "    outputElement.appendChild(li);\n",
              "\n",
              "    const fileDataPromise = new Promise((resolve) => {\n",
              "      const reader = new FileReader();\n",
              "      reader.onload = (e) => {\n",
              "        resolve(e.target.result);\n",
              "      };\n",
              "      reader.readAsArrayBuffer(file);\n",
              "    });\n",
              "    // Wait for the data to be ready.\n",
              "    let fileData = yield {\n",
              "      promise: fileDataPromise,\n",
              "      response: {\n",
              "        action: 'continue',\n",
              "      }\n",
              "    };\n",
              "\n",
              "    // Use a chunked sending to avoid message size limits. See b/62115660.\n",
              "    let position = 0;\n",
              "    do {\n",
              "      const length = Math.min(fileData.byteLength - position, MAX_PAYLOAD_SIZE);\n",
              "      const chunk = new Uint8Array(fileData, position, length);\n",
              "      position += length;\n",
              "\n",
              "      const base64 = btoa(String.fromCharCode.apply(null, chunk));\n",
              "      yield {\n",
              "        response: {\n",
              "          action: 'append',\n",
              "          file: file.name,\n",
              "          data: base64,\n",
              "        },\n",
              "      };\n",
              "\n",
              "      let percentDone = fileData.byteLength === 0 ?\n",
              "          100 :\n",
              "          Math.round((position / fileData.byteLength) * 100);\n",
              "      percent.textContent = `${percentDone}% done`;\n",
              "\n",
              "    } while (position < fileData.byteLength);\n",
              "  }\n",
              "\n",
              "  // All done.\n",
              "  yield {\n",
              "    response: {\n",
              "      action: 'complete',\n",
              "    }\n",
              "  };\n",
              "}\n",
              "\n",
              "scope.google = scope.google || {};\n",
              "scope.google.colab = scope.google.colab || {};\n",
              "scope.google.colab._files = {\n",
              "  _uploadFiles,\n",
              "  _uploadFilesContinue,\n",
              "};\n",
              "})(self);\n",
              "</script> "
            ]
          },
          "metadata": {}
        },
        {
          "output_type": "stream",
          "name": "stdout",
          "text": [
            "Saving gmail-sorter-457417-373253ca841a.json to gmail-sorter-457417-373253ca841a (2).json\n",
            "Downloading tokenized dataset…\n",
            "Loading dataset splits…\n",
            "Dataset splits loaded: {'train': 5359, 'validation': 596, 'test': 662}\n",
            "Files in ./tokenized_data:\n",
            "  ./tokenized_data/dataset_dict.json\n",
            "  ./tokenized_data/train/state.json\n",
            "  ./tokenized_data/train/dataset_info.json\n",
            "  ./tokenized_data/train/data-00000-of-00001.arrow\n",
            "  ./tokenized_data/test/state.json\n",
            "  ./tokenized_data/test/dataset_info.json\n",
            "  ./tokenized_data/test/data-00000-of-00001.arrow\n",
            "  ./tokenized_data/validation/state.json\n",
            "  ./tokenized_data/validation/dataset_info.json\n",
            "  ./tokenized_data/validation/data-00000-of-00001.arrow\n",
            "Loading label schema...\n"
          ]
        },
        {
          "output_type": "stream",
          "name": "stderr",
          "text": [
            "\u001b[34m\u001b[1mwandb\u001b[0m: \u001b[33mWARNING\u001b[0m Calling wandb.login() after wandb.init() has no effect.\n"
          ]
        },
        {
          "output_type": "stream",
          "name": "stdout",
          "text": [
            "Loaded 51 labels: ['A-Levels', 'Ameen', 'apt search', 'Ayra', 'Banking & Investments/Al Meezan', 'Banking & Investments/Leads', 'Banking & Investments/Meezan', 'Banking & Investments/RBC', 'Banking & Investments/Scotia', 'Banking & Investments/Support', 'Banking & Investments/TD', 'Banking & Investments/Walmart', 'Banking & Investments/Wealthsimple', 'Banking & Investments/Wise', 'Bookings/Communauto', 'Bookings/Flights', 'Bookings/Hotel', 'Bookings/Transport', 'DOCS', 'Events & Tickets', 'Food & Shopping/Cancellations/Refunds', 'Food & Shopping/Delivery updates', 'Food & Shopping/loyalty & discounts', 'Food & Shopping/Receipts', 'Food & Shopping/Support', 'Government', 'Healthcare', 'Home/Fido', 'Home/Fizz', 'Home/Hydro', 'Home/Insurance', 'Home/Opus 6', 'Job Search/Applied', 'Job Search/Leads', 'Job Search/Next steps', 'Job Search/Rejected', 'Marium', 'McGill', 'Newsletters', 'Papa', 'Payments & Subscriptions/Action Required', 'Payments & Subscriptions/Cancellations & Refunds', 'Payments & Subscriptions/Confirmations', 'Payments & Subscriptions/Support', 'Security & Verification/Account Activity', 'Security & Verification/Action Required', 'Security & Verification/Codes & Links', 'Work/Developer', 'Work/Freelance', 'Work/Study & Coursework', 'Work/SURE']\n"
          ]
        },
        {
          "output_type": "display_data",
          "data": {
            "text/plain": [
              "<IPython.core.display.HTML object>"
            ],
            "text/html": [
              "Finishing previous runs because reinit is set to True."
            ]
          },
          "metadata": {}
        },
        {
          "output_type": "display_data",
          "data": {
            "text/plain": [
              "<IPython.core.display.HTML object>"
            ],
            "text/html": []
          },
          "metadata": {}
        },
        {
          "output_type": "display_data",
          "data": {
            "text/plain": [
              "<IPython.core.display.HTML object>"
            ],
            "text/html": [
              "<br>    <style><br>        .wandb-row {<br>            display: flex;<br>            flex-direction: row;<br>            flex-wrap: wrap;<br>            justify-content: flex-start;<br>            width: 100%;<br>        }<br>        .wandb-col {<br>            display: flex;<br>            flex-direction: column;<br>            flex-basis: 100%;<br>            flex: 1;<br>            padding: 10px;<br>        }<br>    </style><br><div class=\"wandb-row\"><div class=\"wandb-col\"><h3>Run summary:</h3><br/><table class=\"wandb\"><tr><td>eval/accuracy</td><td>0.9547</td></tr><tr><td>eval/loss</td><td>0.22387</td></tr><tr><td>eval/runtime</td><td>17.9962</td></tr><tr><td>eval/samples_per_second</td><td>33.118</td></tr><tr><td>eval/steps_per_second</td><td>2.112</td></tr><tr><td>total_flos</td><td>12695692340247552</td></tr><tr><td>train/epoch</td><td>9</td></tr><tr><td>train/global_step</td><td>3015</td></tr><tr><td>train/grad_norm</td><td>0.49464</td></tr><tr><td>train/learning_rate</td><td>0.0</td></tr><tr><td>train/loss</td><td>0.045</td></tr><tr><td>train_loss</td><td>0.44841</td></tr><tr><td>train_runtime</td><td>5136.8949</td></tr><tr><td>train_samples_per_second</td><td>10.432</td></tr><tr><td>train_steps_per_second</td><td>0.652</td></tr></table><br/></div></div>"
            ]
          },
          "metadata": {}
        },
        {
          "output_type": "display_data",
          "data": {
            "text/plain": [
              "<IPython.core.display.HTML object>"
            ],
            "text/html": [
              " View run <strong style=\"color:#cdcd00\">rural-firebrand-4</strong> at: <a href='https://wandb.ai/musabumair0191/gmail-sorter/runs/knl65f4t' target=\"_blank\">https://wandb.ai/musabumair0191/gmail-sorter/runs/knl65f4t</a><br> View project at: <a href='https://wandb.ai/musabumair0191/gmail-sorter' target=\"_blank\">https://wandb.ai/musabumair0191/gmail-sorter</a><br>Synced 5 W&B file(s), 0 media file(s), 0 artifact file(s) and 0 other file(s)"
            ]
          },
          "metadata": {}
        },
        {
          "output_type": "display_data",
          "data": {
            "text/plain": [
              "<IPython.core.display.HTML object>"
            ],
            "text/html": [
              "Find logs at: <code>./wandb/run-20250713_225930-knl65f4t/logs</code>"
            ]
          },
          "metadata": {}
        },
        {
          "output_type": "display_data",
          "data": {
            "text/plain": [
              "<IPython.core.display.HTML object>"
            ],
            "text/html": [
              "Tracking run with wandb version 0.21.0"
            ]
          },
          "metadata": {}
        },
        {
          "output_type": "display_data",
          "data": {
            "text/plain": [
              "<IPython.core.display.HTML object>"
            ],
            "text/html": [
              "Run data is saved locally in <code>/content/wandb/run-20250713_230114-knl65f4t</code>"
            ]
          },
          "metadata": {}
        },
        {
          "output_type": "display_data",
          "data": {
            "text/plain": [
              "<IPython.core.display.HTML object>"
            ],
            "text/html": [
              "Resuming run <strong><a href='https://wandb.ai/musabumair0191/gmail-sorter/runs/knl65f4t' target=\"_blank\">rural-firebrand-4</a></strong> to <a href='https://wandb.ai/musabumair0191/gmail-sorter' target=\"_blank\">Weights & Biases</a> (<a href='https://wandb.me/developer-guide' target=\"_blank\">docs</a>)<br>"
            ]
          },
          "metadata": {}
        },
        {
          "output_type": "display_data",
          "data": {
            "text/plain": [
              "<IPython.core.display.HTML object>"
            ],
            "text/html": [
              " View project at <a href='https://wandb.ai/musabumair0191/gmail-sorter' target=\"_blank\">https://wandb.ai/musabumair0191/gmail-sorter</a>"
            ]
          },
          "metadata": {}
        },
        {
          "output_type": "display_data",
          "data": {
            "text/plain": [
              "<IPython.core.display.HTML object>"
            ],
            "text/html": [
              " View run at <a href='https://wandb.ai/musabumair0191/gmail-sorter/runs/knl65f4t' target=\"_blank\">https://wandb.ai/musabumair0191/gmail-sorter/runs/knl65f4t</a>"
            ]
          },
          "metadata": {}
        },
        {
          "output_type": "stream",
          "name": "stdout",
          "text": [
            "🡇  Latest checkpoint in GCS: model_artifacts/bert-finetuned-v1/checkpoint-3015/\n",
            "✅  Resuming from checkpoint: results/checkpoint-3015\n",
            "🚀  Continuing training …\n"
          ]
        },
        {
          "output_type": "display_data",
          "data": {
            "text/plain": [
              "<IPython.core.display.HTML object>"
            ],
            "text/html": [
              "\n",
              "    <div>\n",
              "      \n",
              "      <progress value='3350' max='3350' style='width:300px; height:20px; vertical-align: middle;'></progress>\n",
              "      [3350/3350 09:04, Epoch 10/10]\n",
              "    </div>\n",
              "    <table border=\"1\" class=\"dataframe\">\n",
              "  <thead>\n",
              " <tr style=\"text-align: left;\">\n",
              "      <th>Epoch</th>\n",
              "      <th>Training Loss</th>\n",
              "      <th>Validation Loss</th>\n",
              "      <th>Accuracy</th>\n",
              "    </tr>\n",
              "  </thead>\n",
              "  <tbody>\n",
              "    <tr>\n",
              "      <td>10</td>\n",
              "      <td>0.037300</td>\n",
              "      <td>0.223527</td>\n",
              "      <td>0.953020</td>\n",
              "    </tr>\n",
              "  </tbody>\n",
              "</table><p>"
            ]
          },
          "metadata": {}
        },
        {
          "output_type": "stream",
          "name": "stderr",
          "text": [
            "Could not locate the best model at ./results/checkpoint-2345/pytorch_model.bin, if you are running a distributed training on multiple nodes, you should activate `--save_on_each_node`.\n"
          ]
        },
        {
          "output_type": "stream",
          "name": "stdout",
          "text": [
            "Uploading model artifacts to GCS...\n",
            "Artifacts uploaded to: gs://gmail-sorter-project/model_artifacts/bert-finetuned-v1\n",
            "✅ Model is ready for deployment on Vertex AI.\n",
            "Model artifacts location: gs://gmail-sorter-project/model_artifacts/bert-finetuned-v1\n",
            "Use this path in Vertex AI > Models to create a custom model deployment.\n"
          ]
        }
      ]
    }
  ]
}